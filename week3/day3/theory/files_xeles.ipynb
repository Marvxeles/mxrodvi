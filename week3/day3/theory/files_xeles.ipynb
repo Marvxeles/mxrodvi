{
 "cells": [
  {
   "cell_type": "markdown",
   "metadata": {},
   "source": [
    "# Ficheros"
   ]
  },
  {
   "cell_type": "markdown",
   "metadata": {},
   "source": [
    "------------------"
   ]
  },
  {
   "cell_type": "code",
   "execution_count": 2,
   "metadata": {},
   "outputs": [],
   "source": [
    "#abre el archivo y genera los permisos de escritura y de lectura, y al finalizar el with cierra el fichero\n",
    "\n",
    "with open('file_to_save.txt', 'a') as open_file: #con este archivo abierto hago lo q esta debajo y luego cierra\n",
    "    open_file.write('A string to write\\n') #crea el fichero file_to_save.txt y escribe lo q le dice write\n",
    "#as es un alias, como una variable dentro del with\n",
    "\"\"\" open('file_to_save.txt', 'a', encoding = \"UTF-8\") para evitar caracteres desconocidos \"\"\"\"\n"
   ]
  },
  {
   "cell_type": "code",
   "execution_count": 4,
   "metadata": {},
   "outputs": [],
   "source": [
    "with open('nombre.txt', 'a') as open_file: \n",
    "    open_file.write('A string to write\\n') "
   ]
  },
  {
   "cell_type": "code",
   "execution_count": 6,
   "metadata": {},
   "outputs": [],
   "source": [
    "with open('nombre.txt', 'a') as open_file:\n",
    "    for i in range(10):\n",
    "        open_file.write('A string to write ' + str(i) + '\\n')"
   ]
  },
  {
   "cell_type": "code",
   "execution_count": 7,
   "metadata": {},
   "outputs": [],
   "source": [
    "with open('nombre.txt', 'a') as open_file:\n",
    "    open_file.write(\"\\n------\\n Last Line.\\n \")"
   ]
  },
  {
   "cell_type": "code",
   "execution_count": 9,
   "metadata": {},
   "outputs": [
    {
     "output_type": "stream",
     "name": "stdout",
     "text": [
      "A string to write\nA string to write\nA string to write 0\nA string to write 1\nA string to write 2\nA string to write 0\nA string to write 1\nA string to write 2\nA string to write 3\nA string to write 4\nA string to write 5\nA string to write 6\nA string to write 7\nA string to write 8\nA string to write 9\n\n------\n Last Line.\n \n"
     ]
    }
   ],
   "source": [
    "with open('nombre.txt', 'r') as open_file: #lo unico q no funciona fuera de la funcion es el open_file pq ya esta cerrado\n",
    "    all_text = open_file.read() #lee todo el texto\n",
    "    x = 2 #me puedo generar una variable que contenga open_file para utilizarla\n",
    "    print(all_text)"
   ]
  },
  {
   "cell_type": "code",
   "execution_count": 11,
   "metadata": {},
   "outputs": [
    {
     "output_type": "stream",
     "name": "stdout",
     "text": [
      "<class 'str'>\nA string to write\n\n"
     ]
    }
   ],
   "source": [
    "with open('nombre.txt', 'r') as open_file:\n",
    "    line = open_file.readline() #lee linea a linea. la priemra vez lee la primera linea\n",
    "    print(type(line))\n",
    "    print(line)"
   ]
  },
  {
   "cell_type": "code",
   "execution_count": 15,
   "metadata": {},
   "outputs": [
    {
     "output_type": "stream",
     "name": "stdout",
     "text": "A string to write\n\nA string to write 0\n\nA string to write 1\n\nA string to write 2\n\n\n\n------\n\n Last Line.\n\n \n- linea: \n"
    }
   ],
   "source": [
    "l = \"\\n\"\n",
    "with open('nombre.txt', 'r') as open_file:\n",
    "    line = open_file.readline() #como line existe es True. Si fuera line = \" \" esto equivale a False, y ocurre en la ultima linea del bucle\n",
    "    count = 1\n",
    "    while line:\n",
    "        if count == 2:\n",
    "            pass\n",
    "        print(line)\n",
    "        line = open_file.readline()\n",
    "        count += 1\n",
    "    line = open_file.readline()\n",
    "    print(\"- linea:\", line) #para escribir lineas de una en una"
   ]
  },
  {
   "cell_type": "code",
   "execution_count": 13,
   "metadata": {},
   "outputs": [
    {
     "output_type": "stream",
     "name": "stdout",
     "text": [
      "Se ha escrito\nPrimera\n\nSegunda\n\nTercera\n\n"
     ]
    }
   ],
   "source": [
    "with open(\"new_file.gh\", \"a\") as new_file:\n",
    "    new_file.write(\"Primera\\n\")\n",
    "    new_file.write(\"Segunda\\n\")\n",
    "    new_file.write(\"Tercera\\n\")\n",
    "    print(\"Se ha escrito\")\n",
    "with open(\"new_file.gh\", \"r\") as new_file:\n",
    "    linea = new_file.readline() #salta a la siguiente\n",
    "    print(linea)\n",
    "    print(new_file.readline())\n",
    "    print(new_file.readline())\n"
   ]
  },
  {
   "cell_type": "code",
   "execution_count": 14,
   "metadata": {},
   "outputs": [
    {
     "output_type": "stream",
     "name": "stdout",
     "text": [
      "A string to write\n\nA string to write\n\n1\n\n"
     ]
    }
   ],
   "source": [
    "with open('nombre.txt', 'r') as open_file:\n",
    "    line = open_file.readline()\n",
    "    while line:\n",
    "        if \"1\" in line: #va a mostrar las lineas anteriores a la q tiene el 1 e imrpimir la del 1\n",
    "            print(line)\n",
    "            break\n",
    "        print(line)\n",
    "        line = open_file.readline()\n",
    "\n",
    " #if \"1\" in line: in solo se usa para colecciones. "
   ]
  },
  {
   "cell_type": "code",
   "execution_count": 16,
   "metadata": {},
   "outputs": [
    {
     "output_type": "stream",
     "name": "stdout",
     "text": [
      "Nombre:   esther \nDinero:   20000\n----------\n"
     ]
    }
   ],
   "source": [
    "with open('nombre.txt', 'r') as open_file:\n",
    "    line = open_file.readline()\n",
    "    while line:\n",
    "        if \"|\" in line:\n",
    "            lista_strings = line.split(\"|\")\n",
    "            nombre = lista_strings[0]\n",
    "            dinero = lista_strings[1]\n",
    "            print(\"Nombre: \", nombre)\n",
    "            print(\"Dinero: \", dinero)\n",
    "            print(\"----------\")\n",
    "        line = open_file.readline()"
   ]
  },
  {
   "cell_type": "code",
   "execution_count": 18,
   "metadata": {},
   "outputs": [
    {
     "output_type": "stream",
     "name": "stdout",
     "text": [
      "['ester santos ', ' 20000']\n"
     ]
    }
   ],
   "source": [
    "s = \"ester santos | 20000\"\n",
    "print(s.split (\"|\"))#no imprime la barra, lo separa por ,espacio. lo convierte en una lista"
   ]
  },
  {
   "cell_type": "code",
   "execution_count": 21,
   "metadata": {},
   "outputs": [
    {
     "output_type": "stream",
     "name": "stdout",
     "text": "YES\n"
    }
   ],
   "source": [
    "l = [\"a\", \"b\", \"c\"]\n",
    "\n",
    "if \"a\" in l:\n",
    "    print(\"YES\")"
   ]
  },
  {
   "cell_type": "code",
   "execution_count": 19,
   "metadata": {},
   "outputs": [
    {
     "output_type": "stream",
     "name": "stdout",
     "text": [
      "A\n \ns\nt\nr\ni\nn\ng\n \nt\no\n \nw\nr\ni\nt\ne\n \n"
     ]
    }
   ],
   "source": [
    "s = \"A string to write 1\"\n",
    "\n",
    "for elem in s:#va a mostrar todos los elementos hasta llegar al 1 incluso los espacios, sin incluir el 1 \n",
    "    if elem == \"1\":\n",
    "        break\n",
    "    print(elem)"
   ]
  },
  {
   "cell_type": "code",
   "execution_count": 22,
   "metadata": {},
   "outputs": [
    {
     "output_type": "stream",
     "name": "stdout",
     "text": [
      "['hello', 'my name is Peter', 'I am 26 years old']\n['hello', 'my name is Peter,I am 26 years old']\n"
     ]
    }
   ],
   "source": [
    "txt = \"hello, my name is Peter, I am 26 years old\"\n",
    "txt2 = \"hello, my name is Peter,I am 26 years old\"\n",
    "x = txt.split(\", \") #divide por espacios, si le quito un espacio lo considera un string unico\n",
    "x2 = txt2.split(\", \")\n",
    "print(x)\n",
    "print(x2)"
   ]
  },
  {
   "cell_type": "code",
   "execution_count": null,
   "metadata": {},
   "outputs": [],
   "source": []
  }
 ],
 "metadata": {
  "language_info": {
   "name": "python",
   "codemirror_mode": {
    "name": "ipython",
    "version": 3
   },
   "version": "3.9.0-final"
  },
  "orig_nbformat": 2,
  "file_extension": ".py",
  "mimetype": "text/x-python",
  "name": "python",
  "npconvert_exporter": "python",
  "pygments_lexer": "ipython3",
  "version": 3,
  "kernelspec": {
   "name": "python3",
   "display_name": "Python 3.9.0 64-bit",
   "metadata": {
    "interpreter": {
     "hash": "c8d5d7fe281331becef24f1e4ea1b077975784ba7fc5580d584a0d626ad22e12"
    }
   }
  }
 },
 "nbformat": 4,
 "nbformat_minor": 2
}